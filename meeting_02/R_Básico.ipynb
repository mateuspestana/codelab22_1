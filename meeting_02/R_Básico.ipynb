{
  "nbformat": 4,
  "nbformat_minor": 0,
  "metadata": {
    "colab": {
      "name": "R Básico.ipynb",
      "provenance": []
    },
    "kernelspec": {
      "name": "ir",
      "display_name": "R"
    },
    "language_info": {
      "name": "R"
    }
  },
  "cells": [
    {
      "cell_type": "markdown",
      "source": [
        "# Introdução a Lógica de Programação\n",
        "\n",
        "Vamos trabalhar aqui alguns conceitos introdutório de programação.\n",
        "\n",
        "O R é uma linguagem de programação e, como tal, requer comandos para funcionar. Estes devem ser escritos de forma que faça sentido para o computador compreender e entender o procedimento a ser adotado.\n",
        "A garantia que o comando ou a sentença está descrita de forma clara é por meio da lógica. \n",
        "Lógica nada mais é do que um organização racional do pensamento, ou de uma proposição,de forma que ela não se contradiga.\n",
        "\n",
        "Exemplos :\n",
        "* Todo mamífero é um animal\n",
        "  Todo cavalo é mamífero.\n",
        "  Portanto, todo cavalo é um animal\n",
        "  \n",
        "* Tabela verdade:\n",
        "[inserir imagem da tabela verdade]\n",
        "\n",
        "\n",
        "A lógica é importante para que o programa entenda exatamente o que o programador quer executar. Contruímos, então, **Algoritmos**.\n",
        "\n",
        "### Algoritmos\n",
        "\n",
        "[Como fazer um sanduíche de pasta de amendoim](https://www.youtube.com/watch?v=pdhqwbUWf4U)\n",
        "\n",
        "Algoritmos são como uma receita de bolo, um passo-a-passo do que se deve fazer. Segundo Forbellone e Eberspacher (2005, p.15), \"o principal objetivo da Lógica de programação é a construção de algoritmos coerentes e válidos. (...) Um *algoritmo* pode ser definido como uma sequência de passos que visam atingir um objetivo definito\". Ou seja, é um manual descritivo, um conjunto de instruções do caminho a ser percorrido pelo programa para atingir a finalidade desejada. \n",
        "\n",
        "Programas são algoritmos escritos em uma linguagem de programação, como o R.\n",
        "\n",
        "#### Pseudocódigo\n",
        "\n",
        "O pseudocódigo é uma forma de expressar um algoritmo independente da linguagem de programação a ser utilizada. É um momento anterior, uma forma de observar melhor o que se pretende fazer.\n",
        "\n",
        "![](pseu1.jpg)\n",
        "\n",
        "#### Constantes e Variáveis \n",
        "\n",
        "Constantes: valores fixos, não se alteram\n",
        "\n",
        "Variáveis: conjuntos de dados que, durante a reprodução do programa, se alternam.\n",
        "\n",
        "* exemplos de tipos:\n",
        "  + real\n",
        "    + 0, 1, 2\n",
        "  + caracter\n",
        "    + \"nome\", \"90\"\n",
        "  + lógico\n",
        "    + TRUE, FALSE\n",
        "\n",
        "\n",
        "#### Operadores\n",
        "\n",
        "* Aritméticos\n",
        "  soma, subtração, multiplicação e divisão\n",
        "\n",
        "* Relacionais\n",
        "  maior que, menor que, maior igual, menor igual\n",
        "\n",
        "* Lógicos\n",
        "  AND, OR, NOT\n",
        "\n",
        "#### Estruturas de controle\n",
        "\n",
        "Estruturas que controlam o fluxo do algoritmo.\n",
        "\n",
        "* Decisão\n",
        "  + Se, senão\n",
        "    If, ifelse\n",
        "*Repetição\n",
        "  + for\n",
        "  \n",
        "  \n",
        "  \n",
        "  \n",
        "\n",
        "\n",
        "# R Básico - Primeiros passos\n",
        "\n",
        "## Breve introdução ao R e ao RStudio\n",
        "\n",
        "O R é uma linguagem de programação criada em 1993 por **R**oss Ihaka e **R**obert Gentleman, baseada numa linguagem anterior, a **S**, que tem como foco a análise estatística e a exploração de dados, o que hoje chamamos de ciência de dados.\n",
        "\n",
        "Por ser uma linguagem de programação em código aberto, com milhares de  voluntários que diariamente contribuem para a comunidade e as suas aplicações, a linguagem R, tal como o Python, é amplamente utilizada, limitando-se apenas à capacidade de programação do programador. É possível escrever teses, desenvolver sites, criar imagens e desenvolver objetos em 3D.\n",
        "\n",
        "O **R**, como dito, é uma linguagem **de alto nível**. Precisamos instalá-la para podermos redigir códigos e executar rotinas de scripts. Todavia, o R enquanto programa não é muito aprazível, se considerarmos aquela visualização original dele, que lembra um pouco um DOS ou um terminal. Aquilo é um console, onde cada código digitado é executado instantaneamente. O **RStudio** foi criado por J.J. Allaire em 2009 e funciona como uma IDE, ou *Integrated Development Environment*, Ambiente de Desenvolvimento Integrado. É uma visualização mais bonita do próprio R, com console, scripts, bases de dados, arquivos e gráficos, reunidos em uma mesma tela, facilitando assim a utilização. Esse é o aplicativo que será aberto sempre, nunca o R, e sim o RStudio.\n",
        "\n",
        "## Funções e Objetos\n",
        "\n",
        "Toda linguagem de programação possui duas dimensões essenciais ao funcionamento: objetos e funções.\n",
        "\n",
        "Objeto é tudo aquilo que existe (bases de dados, vetores, tabelas)\n",
        "Função é tudo aquilo que acontece (estruturas que executam uma função interna, ou seja, possuem uma entrada e uma saída)\n",
        "Entradas e saídas são conceitos importantes que precisam ser explicados, também. As entradas, ou inputs, são geralmente objetos que passarão por alguma transformação dentro da função e sairão mudados, sendo essa a saída, ou output.\n",
        "\n",
        "O esquema seria:\n",
        "\n",
        "$$Objeto_a \\to Função_x \\to Objeto_b$$\n",
        "\n",
        "Toda função tem uma saída, mas nem toda função possui uma entrada (ou melhor, tem, mas ela é implícita). Veremos isso ao longo do curso.\n",
        "\n",
        "Executem o seguinte código, fazendo as devidas alterações:"
      ],
      "metadata": {
        "id": "-psbZNpTCle5"
      }
    },
    {
      "cell_type": "code",
      "source": [
        ""
      ],
      "metadata": {
        "id": "q5RbTE_JPqYp"
      },
      "execution_count": null,
      "outputs": []
    },
    {
      "cell_type": "code",
      "execution_count": null,
      "metadata": {
        "id": "VOSnywrQVizi"
      },
      "outputs": [],
      "source": [
        "nome <- \"Mateus\"\n",
        "cumprimento <- \"Olá\""
      ]
    },
    {
      "cell_type": "markdown",
      "source": [
        "Dois objetos foram criados: um cujo nome é nome e outro cujo nome é cumprimento. Elas tem os respectivos valores de “Matheus” e “Olá”. Como são palavras, estão entre aspas, e isso é extremamente importante, como veremos logo a seguir.\n",
        "\n",
        "## Pacotes\n",
        "\n",
        "Pacotes são “bibliotecas” de funções. Quando instalamos um pacote novo, seria como se comprássemos livros, somando conhecimentos (novas funções) ao que temos. Como foi solicitado no email enviado antes, vocês instalaram alguns pacotes: electionsBR, Tidyverse, janitor e outros, que veremos ao longo do curso. Recapitulando, para instalar um pacote, utilizamos a seguinte estrutura:\n",
        "\n",
        "`install.packages(\"NOME_DO_PACOTE\")`\n",
        "\n",
        "Abaixo, o exemplo do código para instalarmos um pacote chamado “rio”, que permite importar e exportar bases de dados de todos os formatos possíveis: SPSS, Stata, Excel, CSV, JSON, ODS, etc:"
      ],
      "metadata": {
        "id": "PNkdeMQtHID_"
      }
    },
    {
      "cell_type": "code",
      "source": [
        "install.packages(\"rio\")"
      ],
      "metadata": {
        "colab": {
          "base_uri": "https://localhost:8080/"
        },
        "id": "2X5JIagiGwOH",
        "outputId": "165bd002-5690-4397-f8ba-64debfb73f20"
      },
      "execution_count": null,
      "outputs": [
        {
          "output_type": "stream",
          "name": "stderr",
          "text": [
            "Installing package into ‘/usr/local/lib/R/site-library’\n",
            "(as ‘lib’ is unspecified)\n",
            "\n",
            "also installing the dependency ‘openxlsx’\n",
            "\n",
            "\n"
          ]
        }
      ]
    },
    {
      "cell_type": "markdown",
      "source": [
        "Importante perceber o seguinte: o nome do pacote sempre vem entre aspas. No R, se algo está entre aspas, é porque ou é uma palavra (ou seja, não é um objeto) ou é algo externo a ele (um site, ou um pacote que ainda não temos).\n",
        "\n",
        "Para carregar um pacote, a função se dá por `library(NOME_DO_PACOTE)`. Sem aspas, pois já o temos instalado! Só podemos carregar se ele já estiver instalado. Logo, instalamos uma vez e carregamos TODA vez que formos utilizá-lo. Isso seria equivalente, retornando à analogia do “comprar um livro”, a abrir o livro para, enfim, lê-lo.\n",
        "\n",
        "O pacote `rio`, como suporta muitos formatos de arquivo. Para instalar esses formatos (o rio só serve como um atalho), é preciso rodar a função `install_formats()`. Ela só precisa rodar uma vez, e depois nunca mais. Isso instalará os pacotes dos formatos externos (como ODS). Provavelmente, antes de rodá-lo, aparecerá um erro que ao final afirma: Use *‘install_formats()’ to install them.* Eis um exemplo de função que não possui entrada dada pelo usuário, apenas saída. A entrada está implícita em sua criação pelo desenvolvedor. "
      ],
      "metadata": {
        "id": "xJvhnik4HQOY"
      }
    },
    {
      "cell_type": "code",
      "source": [
        "library(rio)\n",
        "# install_formats()"
      ],
      "metadata": {
        "id": "tb7cVIBrHMP3"
      },
      "execution_count": null,
      "outputs": []
    },
    {
      "cell_type": "markdown",
      "source": [
        "# Ainda sobre funções\n",
        "\n",
        "Como percebemos, as entradas ficam dentro dos parênteses e as saídas aparecem dentro no terminal/console/output. \n",
        "Se formos rodar os objetos, bastará digitar o nome do objeto, que o valor será apresentado no console/output:"
      ],
      "metadata": {
        "id": "i3ff7mSlHgpA"
      }
    },
    {
      "cell_type": "code",
      "source": [
        "cumprimento\n",
        "nome"
      ],
      "metadata": {
        "colab": {
          "base_uri": "https://localhost:8080/",
          "height": 51
        },
        "id": "4HAUKGjYHekk",
        "outputId": "0276b25f-00cf-4e86-e18b-ccacf6a492ce"
      },
      "execution_count": null,
      "outputs": [
        {
          "output_type": "display_data",
          "data": {
            "text/html": [
              "'Olá'"
            ],
            "text/markdown": "'Olá'",
            "text/latex": "'Olá'",
            "text/plain": [
              "[1] \"Olá\""
            ]
          },
          "metadata": {}
        },
        {
          "output_type": "display_data",
          "data": {
            "text/html": [
              "'Mateus'"
            ],
            "text/markdown": "'Mateus'",
            "text/latex": "'Mateus'",
            "text/plain": [
              "[1] \"Mateus\""
            ]
          },
          "metadata": {}
        }
      ]
    },
    {
      "cell_type": "markdown",
      "source": [
        "Podemos usar uma função chamada `paste()` para \"colar\" esses dois objetos, já que eles são palavras, e formar uma frase só. Esse seria um exemplo de função com entradas:"
      ],
      "metadata": {
        "id": "0gRZKXXvHtb4"
      }
    },
    {
      "cell_type": "code",
      "source": [
        "paste(cumprimento, \",\", nome, \"Pestana!\")"
      ],
      "metadata": {
        "colab": {
          "base_uri": "https://localhost:8080/",
          "height": 34
        },
        "id": "jIxDI3FLHrPE",
        "outputId": "e39ca143-40e4-470b-f4b0-c801c850e681"
      },
      "execution_count": null,
      "outputs": [
        {
          "output_type": "display_data",
          "data": {
            "text/html": [
              "'Olá , Mateus Pestana!'"
            ],
            "text/markdown": "'Olá , Mateus Pestana!'",
            "text/latex": "'Olá , Mateus Pestana!'",
            "text/plain": [
              "[1] \"Olá , Mateus Pestana!\""
            ]
          },
          "metadata": {}
        }
      ]
    },
    {
      "cell_type": "markdown",
      "source": [
        "## Pedindo ajuda\n",
        "\n",
        "Uma forma de pedir ajuda é usando o Google, o StackOverflow e outros sites. Lá, diversas pessoas já se depararam com o mesmo problema que você passará.\n",
        "\n",
        "Uma forma de você pedir ajuda também é pelo próprio R, através da sua decumentação. Para isso, basta digitar um ponto de interrogação antes de uma função, que a documentação abrirá. Se quiséssemos ler a documentação da função `paste()` faríamos `?paste()`.\n",
        "\n",
        "\n",
        "## R como calculadora\n",
        "\n",
        "Como dito inicialmente, o R é muito usado para cálculos estatísticos. Basicamente, é uma calculadora poderosa. Toda e qualquer manipulação numérica pode ser feita no R:"
      ],
      "metadata": {
        "id": "feO7meGZIrTH"
      }
    },
    {
      "cell_type": "code",
      "source": [
        "2 + 2\n",
        "\n",
        "5 * 10\n",
        "\n",
        "8 / 2\n",
        "\n",
        "-5 - 2\n",
        "\n",
        "log(3)\n",
        "\n",
        "exp(2)\n",
        "\n",
        "abs(-2)\n",
        "\n",
        "sqrt(144)\n",
        "\n",
        "2^5\n"
      ],
      "metadata": {
        "id": "5dPixOXPI70L"
      },
      "execution_count": null,
      "outputs": []
    },
    {
      "cell_type": "markdown",
      "source": [
        "Podemos aninhar as contas, permitindo cálculos um pouquinho mais longos:"
      ],
      "metadata": {
        "id": "9OgBZ2T7JYOC"
      }
    },
    {
      "cell_type": "code",
      "source": [
        "sqrt(2 + 5^2 + log(5) + exp(log(5+10)))"
      ],
      "metadata": {
        "colab": {
          "base_uri": "https://localhost:8080/",
          "height": 34
        },
        "id": "mdIW7rbZJbqL",
        "outputId": "54d8a4a9-13c2-42ff-a4ab-1765f7a037a8"
      },
      "execution_count": null,
      "outputs": [
        {
          "output_type": "display_data",
          "data": {
            "text/html": [
              "6.60374423432904"
            ],
            "text/markdown": "6.60374423432904",
            "text/latex": "6.60374423432904",
            "text/plain": [
              "[1] 6.603744"
            ]
          },
          "metadata": {}
        }
      ]
    },
    {
      "cell_type": "markdown",
      "source": [
        "## Tipos de objetos \n",
        "\n",
        "Os objetos podem ser de diversos tipos, mas os três principais são: vetores, dataframes e listas, em ordem de complexidade.\n",
        "\n",
        "### Vetores\n",
        "\n",
        "Os objetos que criamos acima eram vetores com um único item. Vetores possuem uma só dimensão e de uma só classe/tipo, que pode ser integer, double, character e logical. Podemos ter um vetor com vários itens quando utilizamos a função combine, que é dada por c().\n",
        "\n"
      ],
      "metadata": {
        "id": "A7x_XrknIXcr"
      }
    },
    {
      "cell_type": "code",
      "source": [
        "muitos_itens <- c(1, 2, 3, 4, 5, 6, 7, 8, 9, 8, 7, 6, 5, 4, 3, 2, 1)"
      ],
      "metadata": {
        "id": "4eGeHkkUH_BI"
      },
      "execution_count": null,
      "outputs": []
    },
    {
      "cell_type": "markdown",
      "source": [
        "Qual o tipo de vetor acima?"
      ],
      "metadata": {
        "id": "GM3YBQQFJk3r"
      }
    },
    {
      "cell_type": "code",
      "source": [
        "typeof(muitos_itens)\n",
        "\n",
        "typeof(cumprimento)"
      ],
      "metadata": {
        "colab": {
          "base_uri": "https://localhost:8080/",
          "height": 51
        },
        "id": "us0vg2VmJkHS",
        "outputId": "5b1bdc76-4ff3-48e7-d7e2-a652a4f5422f"
      },
      "execution_count": null,
      "outputs": [
        {
          "output_type": "display_data",
          "data": {
            "text/html": [
              "'double'"
            ],
            "text/markdown": "'double'",
            "text/latex": "'double'",
            "text/plain": [
              "[1] \"double\""
            ]
          },
          "metadata": {}
        },
        {
          "output_type": "display_data",
          "data": {
            "text/html": [
              "'character'"
            ],
            "text/markdown": "'character'",
            "text/latex": "'character'",
            "text/plain": [
              "[1] \"character\""
            ]
          },
          "metadata": {}
        }
      ]
    },
    {
      "cell_type": "markdown",
      "source": [
        "Os tipos enquadrados como *logical* são o que chamamos de booleanos, podendo adquirir dois valores possíveis: `TRUE` ou `FALSE`, podendo ser resumido no R por `T` e `F`, respectivamente. Como são tipos próprios, não precisam de aspas.\n"
      ],
      "metadata": {
        "id": "zKNzH-r3JtIo"
      }
    },
    {
      "cell_type": "code",
      "source": [
        "typeof(TRUE)\n",
        "typeof(FALSE)\n",
        "typeof(T)\n",
        "typeof(F)"
      ],
      "metadata": {
        "colab": {
          "base_uri": "https://localhost:8080/",
          "height": 85
        },
        "id": "fy8ePVIdJnEk",
        "outputId": "b9044d1e-8cdf-4349-d2f8-70d32586ce9d"
      },
      "execution_count": null,
      "outputs": [
        {
          "output_type": "display_data",
          "data": {
            "text/html": [
              "'logical'"
            ],
            "text/markdown": "'logical'",
            "text/latex": "'logical'",
            "text/plain": [
              "[1] \"logical\""
            ]
          },
          "metadata": {}
        },
        {
          "output_type": "display_data",
          "data": {
            "text/html": [
              "'logical'"
            ],
            "text/markdown": "'logical'",
            "text/latex": "'logical'",
            "text/plain": [
              "[1] \"logical\""
            ]
          },
          "metadata": {}
        },
        {
          "output_type": "display_data",
          "data": {
            "text/html": [
              "'logical'"
            ],
            "text/markdown": "'logical'",
            "text/latex": "'logical'",
            "text/plain": [
              "[1] \"logical\""
            ]
          },
          "metadata": {}
        },
        {
          "output_type": "display_data",
          "data": {
            "text/html": [
              "'logical'"
            ],
            "text/markdown": "'logical'",
            "text/latex": "'logical'",
            "text/plain": [
              "[1] \"logical\""
            ]
          },
          "metadata": {}
        }
      ]
    },
    {
      "cell_type": "code",
      "source": [
        "if (condicao) {\n",
        " \n",
        "  # comandos que\n",
        "  # serao rodados\n",
        "  # caso condicao = TRUE\n",
        " \n",
        "}"
      ],
      "metadata": {
        "id": "6sfPJSHUQyoo"
      },
      "execution_count": null,
      "outputs": []
    },
    {
      "cell_type": "markdown",
      "source": [
        "## Estruturas de decisão\n",
        "If else\n"
      ],
      "metadata": {
        "id": "PlaelV9eQk2q"
      }
    },
    {
      "cell_type": "code",
      "source": [
        "x <- 114\n",
        "if (x > 10){\n",
        "  print(\"valor atendeu a condição de ser maior que 10\")\n",
        "}"
      ],
      "metadata": {
        "colab": {
          "base_uri": "https://localhost:8080/"
        },
        "id": "SD24Pf38Q5eg",
        "outputId": "3596ecb7-4964-4cbd-a2df-f49acd7b56d2"
      },
      "execution_count": null,
      "outputs": [
        {
          "output_type": "stream",
          "name": "stdout",
          "text": [
            "[1] \"valor atendeu a condição de ser maior que 1\"\n"
          ]
        }
      ]
    },
    {
      "cell_type": "code",
      "source": [
        "x <- 9\n",
        "if (x > 10){\n",
        "  print(\"valor atendeu a condição de ser maior que 10\")\n",
        "}"
      ],
      "metadata": {
        "id": "__Nu9qgmRv_v"
      },
      "execution_count": null,
      "outputs": []
    },
    {
      "cell_type": "code",
      "source": [
        "x <- 9\n",
        "if (x > 10){\n",
        "  print(\"valor atendeu a condição de ser maior que 10\")\n",
        "} else {\n",
        "  print(\"valor não atende a condição\")\n",
        "}"
      ],
      "metadata": {
        "colab": {
          "base_uri": "https://localhost:8080/"
        },
        "id": "5OecDE-XR-pP",
        "outputId": "5ee9ac1a-9c02-469f-8e1c-bb5b858c9561"
      },
      "execution_count": null,
      "outputs": [
        {
          "output_type": "stream",
          "name": "stdout",
          "text": [
            "[1] \"valor não atende a condição\"\n"
          ]
        }
      ]
    },
    {
      "cell_type": "markdown",
      "source": [
        "## Indexando\n",
        "\n",
        "Como temos um vetor com muitos itens, podemos extrair cada item por indexação da sua posição dentro do vetor. Por exemplo:"
      ],
      "metadata": {
        "id": "DCkrVgwiKC7J"
      }
    },
    {
      "cell_type": "code",
      "source": [
        "muitos_itens[1]\n",
        "muitos_itens[11]\n",
        "muitos_itens[-11]\n",
        "muitos_itens[1:12]\n",
        "1:5\n",
        "\n",
        "vetor_confuso <- c(\"Oi\", \"Mateus\", 123)"
      ],
      "metadata": {
        "colab": {
          "base_uri": "https://localhost:8080/",
          "height": 102
        },
        "id": "70OYOxIeKA2S",
        "outputId": "ca6e5ec4-6310-4f84-a4b3-466d87cb0815"
      },
      "execution_count": null,
      "outputs": [
        {
          "output_type": "display_data",
          "data": {
            "text/html": [
              "1"
            ],
            "text/markdown": "1",
            "text/latex": "1",
            "text/plain": [
              "[1] 1"
            ]
          },
          "metadata": {}
        },
        {
          "output_type": "display_data",
          "data": {
            "text/html": [
              "7"
            ],
            "text/markdown": "7",
            "text/latex": "7",
            "text/plain": [
              "[1] 7"
            ]
          },
          "metadata": {}
        },
        {
          "output_type": "display_data",
          "data": {
            "text/html": [
              "<style>\n",
              ".list-inline {list-style: none; margin:0; padding: 0}\n",
              ".list-inline>li {display: inline-block}\n",
              ".list-inline>li:not(:last-child)::after {content: \"\\00b7\"; padding: 0 .5ex}\n",
              "</style>\n",
              "<ol class=list-inline><li>1</li><li>2</li><li>3</li><li>4</li><li>5</li><li>6</li><li>7</li><li>8</li><li>9</li><li>8</li><li>6</li><li>5</li><li>4</li><li>3</li><li>2</li><li>1</li></ol>\n"
            ],
            "text/markdown": "1. 1\n2. 2\n3. 3\n4. 4\n5. 5\n6. 6\n7. 7\n8. 8\n9. 9\n10. 8\n11. 6\n12. 5\n13. 4\n14. 3\n15. 2\n16. 1\n\n\n",
            "text/latex": "\\begin{enumerate*}\n\\item 1\n\\item 2\n\\item 3\n\\item 4\n\\item 5\n\\item 6\n\\item 7\n\\item 8\n\\item 9\n\\item 8\n\\item 6\n\\item 5\n\\item 4\n\\item 3\n\\item 2\n\\item 1\n\\end{enumerate*}\n",
            "text/plain": [
              " [1] 1 2 3 4 5 6 7 8 9 8 6 5 4 3 2 1"
            ]
          },
          "metadata": {}
        },
        {
          "output_type": "display_data",
          "data": {
            "text/html": [
              "<style>\n",
              ".list-inline {list-style: none; margin:0; padding: 0}\n",
              ".list-inline>li {display: inline-block}\n",
              ".list-inline>li:not(:last-child)::after {content: \"\\00b7\"; padding: 0 .5ex}\n",
              "</style>\n",
              "<ol class=list-inline><li>1</li><li>2</li><li>3</li><li>4</li><li>5</li><li>6</li><li>7</li><li>8</li><li>9</li><li>8</li><li>7</li><li>6</li></ol>\n"
            ],
            "text/markdown": "1. 1\n2. 2\n3. 3\n4. 4\n5. 5\n6. 6\n7. 7\n8. 8\n9. 9\n10. 8\n11. 7\n12. 6\n\n\n",
            "text/latex": "\\begin{enumerate*}\n\\item 1\n\\item 2\n\\item 3\n\\item 4\n\\item 5\n\\item 6\n\\item 7\n\\item 8\n\\item 9\n\\item 8\n\\item 7\n\\item 6\n\\end{enumerate*}\n",
            "text/plain": [
              " [1] 1 2 3 4 5 6 7 8 9 8 7 6"
            ]
          },
          "metadata": {}
        },
        {
          "output_type": "display_data",
          "data": {
            "text/html": [
              "<style>\n",
              ".list-inline {list-style: none; margin:0; padding: 0}\n",
              ".list-inline>li {display: inline-block}\n",
              ".list-inline>li:not(:last-child)::after {content: \"\\00b7\"; padding: 0 .5ex}\n",
              "</style>\n",
              "<ol class=list-inline><li>1</li><li>2</li><li>3</li><li>4</li><li>5</li></ol>\n"
            ],
            "text/markdown": "1. 1\n2. 2\n3. 3\n4. 4\n5. 5\n\n\n",
            "text/latex": "\\begin{enumerate*}\n\\item 1\n\\item 2\n\\item 3\n\\item 4\n\\item 5\n\\end{enumerate*}\n",
            "text/plain": [
              "[1] 1 2 3 4 5"
            ]
          },
          "metadata": {}
        }
      ]
    },
    {
      "cell_type": "markdown",
      "source": [
        "## Estrutura de repetição\n",
        " For"
      ],
      "metadata": {
        "id": "OmImXOCKTKmQ"
      }
    },
    {
      "cell_type": "code",
      "source": [
        "for(i in conjunto_de_valores){\n",
        "  # comandos que \n",
        "  # serão repetidos\n",
        "}"
      ],
      "metadata": {
        "id": "a1_GWVnETbsf"
      },
      "execution_count": null,
      "outputs": []
    },
    {
      "cell_type": "code",
      "source": [
        "sequencia = seq(0,10)\n",
        "for (i in sequencia) {\n",
        "  print(i)\n",
        "}"
      ],
      "metadata": {
        "colab": {
          "base_uri": "https://localhost:8080/"
        },
        "id": "rhk_qs0cTz4_",
        "outputId": "b1cc90f9-3213-4d53-a33c-e2b46570f2ed"
      },
      "execution_count": null,
      "outputs": [
        {
          "output_type": "stream",
          "name": "stdout",
          "text": [
            "[1] 0\n",
            "[1] 1\n",
            "[1] 2\n",
            "[1] 3\n",
            "[1] 4\n",
            "[1] 5\n",
            "[1] 6\n",
            "[1] 7\n",
            "[1] 8\n",
            "[1] 9\n",
            "[1] 10\n"
          ]
        }
      ]
    },
    {
      "cell_type": "code",
      "source": [
        "sequencia = seq(0,10)\n",
        "for (i in sequencia){\n",
        "  if(i %% 2 == 0){\n",
        "    print(paste(i,\"é um número par\"))\n",
        "  } else {\n",
        "    print(paste(i, \"é um número ímpar\"))\n",
        "  }\n",
        "}"
      ],
      "metadata": {
        "colab": {
          "base_uri": "https://localhost:8080/"
        },
        "id": "aaQma6qgUDXY",
        "outputId": "abfb2db8-60c6-4111-c7f0-89cbac4b6f48"
      },
      "execution_count": null,
      "outputs": [
        {
          "output_type": "stream",
          "name": "stdout",
          "text": [
            "[1] \"0 é um número par\"\n",
            "[1] \"1 é um número ímpar\"\n",
            "[1] \"2 é um número par\"\n",
            "[1] \"3 é um número ímpar\"\n",
            "[1] \"4 é um número par\"\n",
            "[1] \"5 é um número ímpar\"\n",
            "[1] \"6 é um número par\"\n",
            "[1] \"7 é um número ímpar\"\n",
            "[1] \"8 é um número par\"\n",
            "[1] \"9 é um número ímpar\"\n",
            "[1] \"10 é um número par\"\n"
          ]
        }
      ]
    },
    {
      "cell_type": "markdown",
      "source": [
        "## Dataframes\n",
        "\n",
        "Dataframes são estruturas com duas dimensões. Em resumo, linhas e colunas. Um dataframe é chamado de tidy quando cada linha dele representa um caso analisado, e cada coluna, uma variável, que adjetiva aquele caso em algum aspecto. Por exemplo, podemos ter um banco em que cada linha é um aluno com as seguintes variáveis:\n",
        "\n",
        "- Matrícula\n",
        "- Nome\n",
        "- Gênero\n",
        "- Idade\n",
        "- Programa\n",
        "- Nível\n",
        "- Orientador\n",
        "\n",
        "Para criar um dataframe no R, podemos usar a função data.frame():"
      ],
      "metadata": {
        "id": "ujxZ7SInKTz0"
      }
    },
    {
      "cell_type": "code",
      "source": [
        "matricula = c(2020151, 2021220, 2022005)\n",
        "nome = c(\"Matheus Pestana\", \"Luana Calzavara\", \"Carlos Freitas\")\n",
        "genero = c(\"M\", \"M\", \"F\")\n",
        "idade = c(28, 26, 28)\n",
        "programa = rep(\"Ciência Política\", 3) \n",
        "nivel = c(\"DO\", \"DO\", \"ME\")\n",
        "orientador = c(rep(\"Fernando Guarnieri\", 2), \"Fabiano Santos\")\n",
        "\n",
        "alunos <- data.frame(matricula, nome, genero, idade, programa, nivel, orientador)\n",
        "\n",
        "alunos\n"
      ],
      "metadata": {
        "colab": {
          "base_uri": "https://localhost:8080/",
          "height": 241
        },
        "id": "LFshWi64KF8v",
        "outputId": "5b0742e2-6b33-421a-f9a9-1a8029eae6ba"
      },
      "execution_count": null,
      "outputs": [
        {
          "output_type": "display_data",
          "data": {
            "text/html": [
              "<table class=\"dataframe\">\n",
              "<caption>A data.frame: 3 × 7</caption>\n",
              "<thead>\n",
              "\t<tr><th scope=col>matricula</th><th scope=col>nome</th><th scope=col>genero</th><th scope=col>idade</th><th scope=col>programa</th><th scope=col>nivel</th><th scope=col>orientador</th></tr>\n",
              "\t<tr><th scope=col>&lt;dbl&gt;</th><th scope=col>&lt;chr&gt;</th><th scope=col>&lt;chr&gt;</th><th scope=col>&lt;dbl&gt;</th><th scope=col>&lt;chr&gt;</th><th scope=col>&lt;chr&gt;</th><th scope=col>&lt;chr&gt;</th></tr>\n",
              "</thead>\n",
              "<tbody>\n",
              "\t<tr><td>2020151</td><td>Matheus Pestana</td><td>M</td><td>28</td><td>Ciência Política</td><td>DO</td><td>Fernando Guarnieri</td></tr>\n",
              "\t<tr><td>2021220</td><td>Luana Calzavara</td><td>M</td><td>26</td><td>Ciência Política</td><td>DO</td><td>Fernando Guarnieri</td></tr>\n",
              "\t<tr><td>2022005</td><td>Carlos Freitas </td><td>F</td><td>28</td><td>Ciência Política</td><td>ME</td><td>Fabiano Santos    </td></tr>\n",
              "</tbody>\n",
              "</table>\n"
            ],
            "text/markdown": "\nA data.frame: 3 × 7\n\n| matricula &lt;dbl&gt; | nome &lt;chr&gt; | genero &lt;chr&gt; | idade &lt;dbl&gt; | programa &lt;chr&gt; | nivel &lt;chr&gt; | orientador &lt;chr&gt; |\n|---|---|---|---|---|---|---|\n| 2020151 | Matheus Pestana | M | 28 | Ciência Política | DO | Fernando Guarnieri |\n| 2021220 | Luana Calzavara | M | 26 | Ciência Política | DO | Fernando Guarnieri |\n| 2022005 | Carlos Freitas  | F | 28 | Ciência Política | ME | Fabiano Santos     |\n\n",
            "text/latex": "A data.frame: 3 × 7\n\\begin{tabular}{lllllll}\n matricula & nome & genero & idade & programa & nivel & orientador\\\\\n <dbl> & <chr> & <chr> & <dbl> & <chr> & <chr> & <chr>\\\\\n\\hline\n\t 2020151 & Matheus Pestana & M & 28 & Ciência Política & DO & Fernando Guarnieri\\\\\n\t 2021220 & Luana Calzavara & M & 26 & Ciência Política & DO & Fernando Guarnieri\\\\\n\t 2022005 & Carlos Freitas  & F & 28 & Ciência Política & ME & Fabiano Santos    \\\\\n\\end{tabular}\n",
            "text/plain": [
              "  matricula nome            genero idade programa         nivel\n",
              "1 2020151   Matheus Pestana M      28    Ciência Política DO   \n",
              "2 2021220   Luana Calzavara M      26    Ciência Política DO   \n",
              "3 2022005   Carlos Freitas  F      28    Ciência Política ME   \n",
              "  orientador        \n",
              "1 Fernando Guarnieri\n",
              "2 Fernando Guarnieri\n",
              "3 Fabiano Santos    "
            ]
          },
          "metadata": {}
        }
      ]
    },
    {
      "cell_type": "code",
      "source": [
        "alunos[1,2]\n",
        "\n",
        "alunos[2, ]\n",
        "\n",
        "alunos[ ,3]\n",
        "\n",
        "alunos$idade"
      ],
      "metadata": {
        "colab": {
          "base_uri": "https://localhost:8080/",
          "height": 196
        },
        "id": "Dy9hppV1LE9g",
        "outputId": "55970004-964c-4554-e9d1-c532472e7184"
      },
      "execution_count": null,
      "outputs": [
        {
          "output_type": "display_data",
          "data": {
            "text/html": [
              "'Matheus Pestana'"
            ],
            "text/markdown": "'Matheus Pestana'",
            "text/latex": "'Matheus Pestana'",
            "text/plain": [
              "[1] \"Matheus Pestana\""
            ]
          },
          "metadata": {}
        },
        {
          "output_type": "display_data",
          "data": {
            "text/html": [
              "<table class=\"dataframe\">\n",
              "<caption>A data.frame: 1 × 7</caption>\n",
              "<thead>\n",
              "\t<tr><th></th><th scope=col>matricula</th><th scope=col>nome</th><th scope=col>genero</th><th scope=col>idade</th><th scope=col>programa</th><th scope=col>nivel</th><th scope=col>orientador</th></tr>\n",
              "\t<tr><th></th><th scope=col>&lt;dbl&gt;</th><th scope=col>&lt;chr&gt;</th><th scope=col>&lt;chr&gt;</th><th scope=col>&lt;dbl&gt;</th><th scope=col>&lt;chr&gt;</th><th scope=col>&lt;chr&gt;</th><th scope=col>&lt;chr&gt;</th></tr>\n",
              "</thead>\n",
              "<tbody>\n",
              "\t<tr><th scope=row>2</th><td>2021220</td><td>Luana Calzavara</td><td>M</td><td>26</td><td>Ciência Política</td><td>DO</td><td>Fernando Guarnieri</td></tr>\n",
              "</tbody>\n",
              "</table>\n"
            ],
            "text/markdown": "\nA data.frame: 1 × 7\n\n| <!--/--> | matricula &lt;dbl&gt; | nome &lt;chr&gt; | genero &lt;chr&gt; | idade &lt;dbl&gt; | programa &lt;chr&gt; | nivel &lt;chr&gt; | orientador &lt;chr&gt; |\n|---|---|---|---|---|---|---|---|\n| 2 | 2021220 | Luana Calzavara | M | 26 | Ciência Política | DO | Fernando Guarnieri |\n\n",
            "text/latex": "A data.frame: 1 × 7\n\\begin{tabular}{r|lllllll}\n  & matricula & nome & genero & idade & programa & nivel & orientador\\\\\n  & <dbl> & <chr> & <chr> & <dbl> & <chr> & <chr> & <chr>\\\\\n\\hline\n\t2 & 2021220 & Luana Calzavara & M & 26 & Ciência Política & DO & Fernando Guarnieri\\\\\n\\end{tabular}\n",
            "text/plain": [
              "  matricula nome            genero idade programa         nivel\n",
              "2 2021220   Luana Calzavara M      26    Ciência Política DO   \n",
              "  orientador        \n",
              "2 Fernando Guarnieri"
            ]
          },
          "metadata": {}
        },
        {
          "output_type": "display_data",
          "data": {
            "text/html": [
              "<style>\n",
              ".list-inline {list-style: none; margin:0; padding: 0}\n",
              ".list-inline>li {display: inline-block}\n",
              ".list-inline>li:not(:last-child)::after {content: \"\\00b7\"; padding: 0 .5ex}\n",
              "</style>\n",
              "<ol class=list-inline><li>'M'</li><li>'M'</li><li>'F'</li></ol>\n"
            ],
            "text/markdown": "1. 'M'\n2. 'M'\n3. 'F'\n\n\n",
            "text/latex": "\\begin{enumerate*}\n\\item 'M'\n\\item 'M'\n\\item 'F'\n\\end{enumerate*}\n",
            "text/plain": [
              "[1] \"M\" \"M\" \"F\""
            ]
          },
          "metadata": {}
        },
        {
          "output_type": "display_data",
          "data": {
            "text/html": [
              "<style>\n",
              ".list-inline {list-style: none; margin:0; padding: 0}\n",
              ".list-inline>li {display: inline-block}\n",
              ".list-inline>li:not(:last-child)::after {content: \"\\00b7\"; padding: 0 .5ex}\n",
              "</style>\n",
              "<ol class=list-inline><li>28</li><li>26</li><li>28</li></ol>\n"
            ],
            "text/markdown": "1. 28\n2. 26\n3. 28\n\n\n",
            "text/latex": "\\begin{enumerate*}\n\\item 28\n\\item 26\n\\item 28\n\\end{enumerate*}\n",
            "text/plain": [
              "[1] 28 26 28"
            ]
          },
          "metadata": {}
        }
      ]
    },
    {
      "cell_type": "markdown",
      "source": [
        "## Listas\n",
        "\n",
        "O diferencial das listas é que, se enquanto nos vetores precisamos ter na única dimensão uma mesma classe para todos os itens, e no dataframe podemos ter mistos, mas cada variável precisa ser da mesma classe, nas listas, podemos combinar as duas coisas. Uma lista possui itens em qualquer formato, sejam eles vetores, dataframes ou ambos. Podemos inserir até mesmo listas dentro de listas!"
      ],
      "metadata": {
        "id": "tROlVSCnMnJD"
      }
    },
    {
      "cell_type": "code",
      "source": [
        "lista <- list(alunos, muitos_itens, nome, cumprimento)\n",
        "\n",
        "lista"
      ],
      "metadata": {
        "colab": {
          "base_uri": "https://localhost:8080/",
          "height": 337
        },
        "id": "zMtF8U7CMZYT",
        "outputId": "dc508078-55a4-47ef-f297-be9ba78afb8c"
      },
      "execution_count": null,
      "outputs": [
        {
          "output_type": "display_data",
          "data": {
            "text/html": [
              "<ol>\n",
              "\t<li><table class=\"dataframe\">\n",
              "<caption>A data.frame: 3 × 7</caption>\n",
              "<thead>\n",
              "\t<tr><th scope=col>matricula</th><th scope=col>nome</th><th scope=col>genero</th><th scope=col>idade</th><th scope=col>programa</th><th scope=col>nivel</th><th scope=col>orientador</th></tr>\n",
              "\t<tr><th scope=col>&lt;dbl&gt;</th><th scope=col>&lt;chr&gt;</th><th scope=col>&lt;chr&gt;</th><th scope=col>&lt;dbl&gt;</th><th scope=col>&lt;chr&gt;</th><th scope=col>&lt;chr&gt;</th><th scope=col>&lt;chr&gt;</th></tr>\n",
              "</thead>\n",
              "<tbody>\n",
              "\t<tr><td>2020151</td><td>Matheus Pestana</td><td>M</td><td>28</td><td>Ciência Política</td><td>DO</td><td>Fernando Guarnieri</td></tr>\n",
              "\t<tr><td>2021220</td><td>Luana Calzavara</td><td>M</td><td>26</td><td>Ciência Política</td><td>DO</td><td>Fernando Guarnieri</td></tr>\n",
              "\t<tr><td>2022005</td><td>Carlos Freitas </td><td>F</td><td>28</td><td>Ciência Política</td><td>ME</td><td>Fabiano Santos    </td></tr>\n",
              "</tbody>\n",
              "</table>\n",
              "</li>\n",
              "\t<li><style>\n",
              ".list-inline {list-style: none; margin:0; padding: 0}\n",
              ".list-inline>li {display: inline-block}\n",
              ".list-inline>li:not(:last-child)::after {content: \"\\00b7\"; padding: 0 .5ex}\n",
              "</style>\n",
              "<ol class=list-inline><li>1</li><li>2</li><li>3</li><li>4</li><li>5</li><li>6</li><li>7</li><li>8</li><li>9</li><li>8</li><li>7</li><li>6</li><li>5</li><li>4</li><li>3</li><li>2</li><li>1</li></ol>\n",
              "</li>\n",
              "\t<li><style>\n",
              ".list-inline {list-style: none; margin:0; padding: 0}\n",
              ".list-inline>li {display: inline-block}\n",
              ".list-inline>li:not(:last-child)::after {content: \"\\00b7\"; padding: 0 .5ex}\n",
              "</style>\n",
              "<ol class=list-inline><li>'Matheus Pestana'</li><li>'Luana Calzavara'</li><li>'Carlos Freitas'</li></ol>\n",
              "</li>\n",
              "\t<li>'Olá'</li>\n",
              "</ol>\n"
            ],
            "text/markdown": "1. \nA data.frame: 3 × 7\n\n| matricula &lt;dbl&gt; | nome &lt;chr&gt; | genero &lt;chr&gt; | idade &lt;dbl&gt; | programa &lt;chr&gt; | nivel &lt;chr&gt; | orientador &lt;chr&gt; |\n|---|---|---|---|---|---|---|\n| 2020151 | Matheus Pestana | M | 28 | Ciência Política | DO | Fernando Guarnieri |\n| 2021220 | Luana Calzavara | M | 26 | Ciência Política | DO | Fernando Guarnieri |\n| 2022005 | Carlos Freitas  | F | 28 | Ciência Política | ME | Fabiano Santos     |\n\n\n2. 1. 1\n2. 2\n3. 3\n4. 4\n5. 5\n6. 6\n7. 7\n8. 8\n9. 9\n10. 8\n11. 7\n12. 6\n13. 5\n14. 4\n15. 3\n16. 2\n17. 1\n\n\n\n3. 1. 'Matheus Pestana'\n2. 'Luana Calzavara'\n3. 'Carlos Freitas'\n\n\n\n4. 'Olá'\n\n\n",
            "text/latex": "\\begin{enumerate}\n\\item A data.frame: 3 × 7\n\\begin{tabular}{lllllll}\n matricula & nome & genero & idade & programa & nivel & orientador\\\\\n <dbl> & <chr> & <chr> & <dbl> & <chr> & <chr> & <chr>\\\\\n\\hline\n\t 2020151 & Matheus Pestana & M & 28 & Ciência Política & DO & Fernando Guarnieri\\\\\n\t 2021220 & Luana Calzavara & M & 26 & Ciência Política & DO & Fernando Guarnieri\\\\\n\t 2022005 & Carlos Freitas  & F & 28 & Ciência Política & ME & Fabiano Santos    \\\\\n\\end{tabular}\n\n\\item \\begin{enumerate*}\n\\item 1\n\\item 2\n\\item 3\n\\item 4\n\\item 5\n\\item 6\n\\item 7\n\\item 8\n\\item 9\n\\item 8\n\\item 7\n\\item 6\n\\item 5\n\\item 4\n\\item 3\n\\item 2\n\\item 1\n\\end{enumerate*}\n\n\\item \\begin{enumerate*}\n\\item 'Matheus Pestana'\n\\item 'Luana Calzavara'\n\\item 'Carlos Freitas'\n\\end{enumerate*}\n\n\\item 'Olá'\n\\end{enumerate}\n",
            "text/plain": [
              "[[1]]\n",
              "  matricula            nome genero idade         programa nivel\n",
              "1   2020151 Matheus Pestana      M    28 Ciência Política    DO\n",
              "2   2021220 Luana Calzavara      M    26 Ciência Política    DO\n",
              "3   2022005  Carlos Freitas      F    28 Ciência Política    ME\n",
              "          orientador\n",
              "1 Fernando Guarnieri\n",
              "2 Fernando Guarnieri\n",
              "3     Fabiano Santos\n",
              "\n",
              "[[2]]\n",
              " [1] 1 2 3 4 5 6 7 8 9 8 7 6 5 4 3 2 1\n",
              "\n",
              "[[3]]\n",
              "[1] \"Matheus Pestana\" \"Luana Calzavara\" \"Carlos Freitas\" \n",
              "\n",
              "[[4]]\n",
              "[1] \"Olá\"\n"
            ]
          },
          "metadata": {}
        }
      ]
    },
    {
      "cell_type": "markdown",
      "source": [
        "### Referências\n",
        "\n",
        "Forbellone, A; Eberspacher, H. Lógica de programação: a construção de algoritmos e estruturas de dados. 3ed. São Paulo: Pretince Hall, 2005.\n",
        "\n",
        "[Curso de lógica de programação](https://www.youtube.com/playlist?list=PLHz_AreHm4dmSj0MHol_aoNYCSGFqvfXV)\n",
        "\n",
        "[Blog sobre R - Análise  Real](https://analisereal.com/)\n",
        "\n",
        "[Livro \"Ciência de Dados em R\" - curso-R](https://livro.curso-r.com/)"
      ],
      "metadata": {
        "id": "4QKO_nStVTgA"
      }
    },
    {
      "cell_type": "code",
      "source": [
        ""
      ],
      "metadata": {
        "id": "0Dq5_s29MtDf"
      },
      "execution_count": null,
      "outputs": []
    }
  ]
}